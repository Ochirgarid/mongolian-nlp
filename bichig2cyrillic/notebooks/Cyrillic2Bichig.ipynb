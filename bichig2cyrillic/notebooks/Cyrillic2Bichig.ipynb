{
 "cells": [
  {
   "cell_type": "markdown",
   "metadata": {
    "id": "DOifpsPTRzlc",
    "colab_type": "text"
   },
   "source": [
    "## Cyrillic to Mongolian script converter\n",
    "\n",
    "This demo converts texts written with the Mongolian cyrillic script (modern spoken language in Mongolia) into the traditional Mongolian script (old pronunciation used many hundred years ago) using deep learning. To test this demo, click on \"**Runtime->Run All**\" (Google account required).\n",
    "\n",
    "\n",
    "For more information like implementation details, visit the repo: https://github.com/tugstugi/mongolian-nlp/tree/master/bichig2cyrillic\n",
    "\n",
    "\n",
    "## Install dependencies"
   ]
  },
  {
   "cell_type": "code",
   "execution_count": 0,
   "metadata": {
    "id": "kUFr5mqRR2hX",
    "colab_type": "code",
    "colab": {}
   },
   "outputs": [],
   "source": [
    "import os\n",
    "from os.path import exists, join, expanduser\n",
    "\n",
    "if not exists('fairseq'):\n",
    "  ! git clone --quiet https://github.com/pytorch/fairseq.git && cd fairseq && pip install -q -r requirements.txt"
   ]
  },
  {
   "cell_type": "markdown",
   "metadata": {
    "id": "DRaE5QkIU7ZV",
    "colab_type": "text"
   },
   "source": [
    "## Download pretrained model"
   ]
  },
  {
   "cell_type": "code",
   "execution_count": 0,
   "metadata": {
    "id": "ADnigfYXUpYx",
    "colab_type": "code",
    "colab": {}
   },
   "outputs": [],
   "source": [
    "if not exists('cyrillic2bichig-checkpoint'):\n",
    "  ! wget -q -O cyrillic2bichig-checkpoint.tar.gz https://www.dropbox.com/s/kqowi8d8w8ovry7/cyrillic2bichig-checkpoint.tar.gz?dl=1\n",
    "  ! tar xvfz cyrillic2bichig-checkpoint.tar.gz"
   ]
  },
  {
   "cell_type": "code",
   "execution_count": 0,
   "metadata": {
    "id": "yLQ0db8HW0tC",
    "colab_type": "code",
    "colab": {}
   },
   "outputs": [],
   "source": [
    "if not exists('cyrillic2bichig.py'):\n",
    "  ! wget -q -O cyrillic2bichig.py https://raw.githubusercontent.com/tugstugi/mongolian-nlp/master/bichig2cyrillic/cyrillic2bichig.py"
   ]
  },
  {
   "cell_type": "markdown",
   "metadata": {
    "id": "TPvqjKAnV6Un",
    "colab_type": "text"
   },
   "source": [
    "## Convert\n",
    "\n",
    "Each line should be no longer than 120 characters!"
   ]
  },
  {
   "cell_type": "code",
   "execution_count": 0,
   "metadata": {
    "id": "R4Oe2B6lVIrb",
    "colab_type": "code",
    "colab": {}
   },
   "outputs": [],
   "source": [
    "sentences = [\n",
    "    \"Хэн хүнтэй үг ярина гэдэг\",\n",
    "    \"Хэрэг дээрээ тулалдаан юм\",\n",
    "    \"Халуун хүйтэн ямар ч зэвсгээс\",\n",
    "    \"Хатуу зөөлөн үг хүчтэй\",\n",
    "    \n",
    "    \"Үгээр хүнийг захирч болно\",\n",
    "    \"Үхүүлж ч болно сэхээж ч болно\",\n",
    "    \"Шалдлуулж, инээлгэж, уйлуулж болно\",\n",
    "    \"Шархлуулж бас эдгээж болно\"\n",
    "]\n",
    "sentences = \"\\n\".join(sentences)\n",
    "\n",
    "! echo \"$sentences\" | python3 cyrillic2bichig.py --path cyrillic2bichig-checkpoint/checkpoint.pt --source-lang cyrillic --target-lang bichig cyrillic2bichig-checkpoint"
   ]
  },
  {
   "cell_type": "code",
   "execution_count": 0,
   "metadata": {
    "id": "g9l-HUBYWuB8",
    "colab_type": "code",
    "colab": {}
   },
   "outputs": [],
   "source": [
    ""
   ]
  }
 ],
 "metadata": {
  "colab": {
   "name": "Cyrillic2Bichig.ipynb",
   "version": "0.3.2",
   "provenance": [],
   "collapsed_sections": []
  },
  "kernelspec": {
   "name": "python3",
   "display_name": "Python 3"
  }
 },
 "nbformat": 4,
 "nbformat_minor": 0
}
